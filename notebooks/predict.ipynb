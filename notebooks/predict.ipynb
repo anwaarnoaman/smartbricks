{
 "cells": [
  {
   "cell_type": "code",
   "execution_count": 1,
   "metadata": {},
   "outputs": [
    {
     "name": "stdout",
     "output_type": "stream",
     "text": [
      "/home/noaman/Desktop/smartbricks\n"
     ]
    }
   ],
   "source": [
    "%cd .."
   ]
  },
  {
   "cell_type": "code",
   "execution_count": 13,
   "metadata": {},
   "outputs": [],
   "source": [
    "import joblib\n",
    "import pandas as pd\n",
    "from preprocess import *\n",
    "from feature_selection import *\n",
    "\n",
    "import config\n",
    "\n",
    "def load_models():\n",
    "    \"\"\"\n",
    "    Load the trained base models and the meta-learner.\n",
    "    \"\"\"\n",
    "    base_models = {}\n",
    "    for name, path in config.MODEL_SAVE_PATHS.items():\n",
    "        model_name = name.replace(\"_\", \" \").title()\n",
    "        base_models[model_name] = joblib.load(path)\n",
    "    \n",
    "    meta_learner = joblib.load(config.META_MODEL_PATH)\n",
    "    return base_models, meta_learner"
   ]
  },
  {
   "cell_type": "code",
   "execution_count": 7,
   "metadata": {},
   "outputs": [],
   "source": [
    "df = pd.read_csv(\"/home/noaman/Desktop/smartbricks/data/processed_rents.csv\") "
   ]
  },
  {
   "cell_type": "code",
   "execution_count": 8,
   "metadata": {},
   "outputs": [
    {
     "data": {
      "text/html": [
       "<div>\n",
       "<style scoped>\n",
       "    .dataframe tbody tr th:only-of-type {\n",
       "        vertical-align: middle;\n",
       "    }\n",
       "\n",
       "    .dataframe tbody tr th {\n",
       "        vertical-align: top;\n",
       "    }\n",
       "\n",
       "    .dataframe thead th {\n",
       "        text-align: right;\n",
       "    }\n",
       "</style>\n",
       "<table border=\"1\" class=\"dataframe\">\n",
       "  <thead>\n",
       "    <tr style=\"text-align: right;\">\n",
       "      <th></th>\n",
       "      <th>contract_start_date</th>\n",
       "      <th>contract_end_date</th>\n",
       "      <th>version_number</th>\n",
       "      <th>version_text</th>\n",
       "      <th>contract_amount</th>\n",
       "      <th>annual_amount</th>\n",
       "      <th>is_freehold</th>\n",
       "      <th>property_size_sqm</th>\n",
       "      <th>property_type_en</th>\n",
       "      <th>property_subtype_en</th>\n",
       "      <th>...</th>\n",
       "      <th>total_properties</th>\n",
       "      <th>rooms</th>\n",
       "      <th>parking</th>\n",
       "      <th>project_name_en</th>\n",
       "      <th>area_en</th>\n",
       "      <th>nearest_landmark_en</th>\n",
       "      <th>nearest_metro_en</th>\n",
       "      <th>nearest_mall_en</th>\n",
       "      <th>master_project_en</th>\n",
       "      <th>contract_duration</th>\n",
       "    </tr>\n",
       "  </thead>\n",
       "  <tbody>\n",
       "    <tr>\n",
       "      <th>0</th>\n",
       "      <td>0.895582</td>\n",
       "      <td>0.902938</td>\n",
       "      <td>0.042867</td>\n",
       "      <td>0.031639</td>\n",
       "      <td>-0.425618</td>\n",
       "      <td>-0.481014</td>\n",
       "      <td>0.276453</td>\n",
       "      <td>-0.268626</td>\n",
       "      <td>0.51964</td>\n",
       "      <td>-1.788526</td>\n",
       "      <td>...</td>\n",
       "      <td>-0.441943</td>\n",
       "      <td>0.031639</td>\n",
       "      <td>-0.12017</td>\n",
       "      <td>0.089803</td>\n",
       "      <td>-0.581075</td>\n",
       "      <td>0.82762</td>\n",
       "      <td>-0.837781</td>\n",
       "      <td>-0.399634</td>\n",
       "      <td>0.0</td>\n",
       "      <td>-0.094785</td>\n",
       "    </tr>\n",
       "  </tbody>\n",
       "</table>\n",
       "<p>1 rows × 21 columns</p>\n",
       "</div>"
      ],
      "text/plain": [
       "   contract_start_date  contract_end_date  version_number  version_text  \\\n",
       "0             0.895582           0.902938        0.042867      0.031639   \n",
       "\n",
       "   contract_amount  annual_amount  is_freehold  property_size_sqm  \\\n",
       "0        -0.425618      -0.481014     0.276453          -0.268626   \n",
       "\n",
       "   property_type_en  property_subtype_en  ...  total_properties     rooms  \\\n",
       "0           0.51964            -1.788526  ...         -0.441943  0.031639   \n",
       "\n",
       "   parking  project_name_en   area_en  nearest_landmark_en  nearest_metro_en  \\\n",
       "0 -0.12017         0.089803 -0.581075              0.82762         -0.837781   \n",
       "\n",
       "   nearest_mall_en  master_project_en  contract_duration  \n",
       "0        -0.399634                0.0          -0.094785  \n",
       "\n",
       "[1 rows x 21 columns]"
      ]
     },
     "execution_count": 8,
     "metadata": {},
     "output_type": "execute_result"
    }
   ],
   "source": [
    "# Sample a single row\n",
    "row = df.sample(n=1)\n",
    "\n",
    "# Reset the index to ensure proper alignment\n",
    "temp = row.reset_index(drop=True)\n",
    "temp"
   ]
  },
  {
   "cell_type": "code",
   "execution_count": 16,
   "metadata": {},
   "outputs": [],
   "source": [
    "rent_features=['property_subtype_en', 'property_size_sqm', 'total_properties', 'nearest_mall_en', 'contract_end_date', 'area_en', 'nearest_landmark_en', 'version_number', 'contract_amount', 'contract_duration', 'contract_start_date', 'annual_amount', 'nearest_metro_en']"
   ]
  },
  {
   "cell_type": "code",
   "execution_count": 33,
   "metadata": {},
   "outputs": [
    {
     "data": {
      "text/plain": [
       "(None, 1)"
      ]
     },
     "execution_count": 33,
     "metadata": {},
     "output_type": "execute_result"
    }
   ],
   "source": [
    "meta_learner.output_shape"
   ]
  },
  {
   "cell_type": "code",
   "execution_count": 34,
   "metadata": {},
   "outputs": [
    {
     "name": "stdout",
     "output_type": "stream",
     "text": [
      "\u001b[1m32/32\u001b[0m \u001b[32m━━━━━━━━━━━━━━━━━━━━\u001b[0m\u001b[37m\u001b[0m \u001b[1m0s\u001b[0m 1ms/step \n",
      "Base model predictions shape: (1000, 3)\n",
      "Final predictions shape: (1000, 1)\n"
     ]
    }
   ],
   "source": [
    "# Load trained models\n",
    "base_models, meta_learner = load_models()\n",
    "\n",
    "# Make predictions using base models\n",
    "base_model_predictions = np.array([\n",
    "    model.predict(df[rent_features]) for model in base_models.values()\n",
    "]).T\n",
    "base_model_predictions = base_model_predictions.reshape(len(df), -1)\n",
    "# # Make predictions using the meta-learner\n",
    "final_predictions = meta_learner.predict(base_model_predictions)\n",
    "\n",
    "print(\"Base model predictions shape:\", base_model_predictions.shape)\n",
    "print(\"Final predictions shape:\", final_predictions.shape)\n",
    "    "
   ]
  },
  {
   "cell_type": "code",
   "execution_count": 29,
   "metadata": {},
   "outputs": [
    {
     "data": {
      "text/plain": [
       "(1000, 3)"
      ]
     },
     "execution_count": 29,
     "metadata": {},
     "output_type": "execute_result"
    }
   ],
   "source": [
    "base_model_predictions.shape"
   ]
  },
  {
   "cell_type": "code",
   "execution_count": 36,
   "metadata": {},
   "outputs": [
    {
     "name": "stdout",
     "output_type": "stream",
     "text": [
      "Mean: 0.0033636626321822405\n",
      "Median: -0.4057328701019287\n",
      "Min: -0.4741194248199463\n",
      "Max: 2.6491003036499023\n"
     ]
    }
   ],
   "source": [
    "\n",
    "final_predictions = final_predictions.flatten()  # This will give you a 1D array of size (1000,)\n",
    "print(f\"Mean: {np.mean(final_predictions)}\")\n",
    "print(f\"Median: {np.median(final_predictions)}\")\n",
    "print(f\"Min: {np.min(final_predictions)}\")\n",
    "print(f\"Max: {np.max(final_predictions)}\")"
   ]
  },
  {
   "cell_type": "code",
   "execution_count": 37,
   "metadata": {},
   "outputs": [
    {
     "data": {
      "image/png": "[encoded data removed]",
      "text/plain": [
       "<Figure size 640x480 with 1 Axes>"
      ]
     },
     "metadata": {},
     "output_type": "display_data"
    }
   ],
   "source": [
    "import matplotlib.pyplot as plt\n",
    "\n",
    "plt.hist(final_predictions, bins=30)\n",
    "plt.title(\"Distribution of Predictions\")\n",
    "plt.xlabel(\"Prediction Value\")\n",
    "plt.ylabel(\"Frequency\")\n",
    "plt.show()"
   ]
  }
 ],
 "metadata": {
  "language_info": {
   "name": "python"
  }
 },
 "nbformat": 4,
 "nbformat_minor": 2
}
